{
  "nbformat": 4,
  "nbformat_minor": 0,
  "metadata": {
    "colab": {
      "provenance": [],
      "authorship_tag": "ABX9TyNpn/xpmdZ0hKV3fdgGvsXc",
      "include_colab_link": true
    },
    "kernelspec": {
      "name": "python3",
      "display_name": "Python 3"
    },
    "language_info": {
      "name": "python"
    }
  },
  "cells": [
    {
      "cell_type": "markdown",
      "metadata": {
        "id": "view-in-github",
        "colab_type": "text"
      },
      "source": [
        "<a href=\"https://colab.research.google.com/github/danialaffridi/lab1ai/blob/main/ailabtask1.ipynb\" target=\"_parent\"><img src=\"https://colab.research.google.com/assets/colab-badge.svg\" alt=\"Open In Colab\"/></a>"
      ]
    },
    {
      "cell_type": "code",
      "execution_count": 4,
      "metadata": {
        "id": "Iu1XF2Tr1YkB"
      },
      "outputs": [],
      "source": [
        "x = 10  # Assigns the value 10 to the variable x\n"
      ]
    },
    {
      "cell_type": "code",
      "source": [
        "x = 10\n",
        "y = 5\n",
        "result = (x == y)  # Compares whether the value of x is equal to the value of y\n",
        "print(result)  # Output will be False\n"
      ],
      "metadata": {
        "colab": {
          "base_uri": "https://localhost:8080/"
        },
        "id": "DUO0MJSr667n",
        "outputId": "dc4f6955-4280-4d05-8a91-981ac5ee2359"
      },
      "execution_count": 5,
      "outputs": [
        {
          "output_type": "stream",
          "name": "stdout",
          "text": [
            "False\n"
          ]
        }
      ]
    },
    {
      "cell_type": "code",
      "source": [
        "# Integer variable\n",
        "integer_variable = 10\n",
        "\n",
        "# Floating-point variable\n",
        "float_variable = 3.14\n",
        "\n",
        "# String variable\n",
        "string_variable = \"Hello, World!\"\n",
        "\n",
        "# Boolean variable\n",
        "boolean_variable = True\n",
        "\n",
        "# Displaying the types and values of each variable\n",
        "print(\"Integer Variable:\", integer_variable, \"Type:\", type(integer_variable))\n",
        "print(\"Float Variable:\", float_variable, \"Type:\", type(float_variable))\n",
        "print(\"String Variable:\", string_variable, \"Type:\", type(string_variable))\n",
        "print(\"Boolean Variable:\", boolean_variable, \"Type:\", type(boolean_variable))\n"
      ],
      "metadata": {
        "colab": {
          "base_uri": "https://localhost:8080/"
        },
        "id": "i0IJ6xvL7ZfC",
        "outputId": "ecc9f289-3867-48e6-c42e-69de42b7f115"
      },
      "execution_count": 6,
      "outputs": [
        {
          "output_type": "stream",
          "name": "stdout",
          "text": [
            "Integer Variable: 10 Type: <class 'int'>\n",
            "Float Variable: 3.14 Type: <class 'float'>\n",
            "String Variable: Hello, World! Type: <class 'str'>\n",
            "Boolean Variable: True Type: <class 'bool'>\n"
          ]
        }
      ]
    },
    {
      "cell_type": "code",
      "source": [
        "\n",
        "# Variable names with special characters\n",
        "_myVariable = 60\n",
        "myVariable_ = 70\n",
        "my_Variable_1 = 80\n",
        "print (_myVariable)\n",
        "print (myVariable_)\n",
        "print (my_Variable_1)\n",
        "\n"
      ],
      "metadata": {
        "colab": {
          "base_uri": "https://localhost:8080/"
        },
        "id": "NME3jnb37hoB",
        "outputId": "3df95aa1-165a-4873-a916-24122eecd964"
      },
      "execution_count": 13,
      "outputs": [
        {
          "output_type": "stream",
          "name": "stdout",
          "text": [
            "60\n",
            "70\n",
            "80\n"
          ]
        }
      ]
    },
    {
      "cell_type": "code",
      "source": [
        "  a = 10, 20, 30\n",
        "x = y = z = 20\n",
        "\n",
        "print (a)\n",
        "print (x, y)"
      ],
      "metadata": {
        "colab": {
          "base_uri": "https://localhost:8080/"
        },
        "id": "VpXHBjYN-H7g",
        "outputId": "6d00da28-b9cf-4607-abff-e2767df07a8d"
      },
      "execution_count": 15,
      "outputs": [
        {
          "output_type": "stream",
          "name": "stdout",
          "text": [
            "(10, 20, 30)\n",
            "20 20\n"
          ]
        }
      ]
    },
    {
      "cell_type": "code",
      "source": [
        "# Integers\n",
        "x = 10\n",
        "y = 5\n",
        "print(\"Integer Operations:\")\n",
        "print(\"Addition:\", x + y)\n",
        "print(\"Subtraction:\", x - y)\n",
        "print(\"Multiplication:\", x * y)\n",
        "print(\"Division:\", x / y)\n",
        "\n",
        "# Floating-point numbers\n",
        "a = 3.5\n",
        "b = 2.0\n",
        "print(\"\\nFloating-point Operations:\")\n",
        "print(\"Addition:\", a + b)\n",
        "print(\"Subtraction:\", a - b)\n",
        "print(\"Multiplication:\", a * b)\n",
        "print(\"Division:\", a / b)\n"
      ],
      "metadata": {
        "id": "k9cCctcn-2pN"
      },
      "execution_count": null,
      "outputs": []
    },
    {
      "cell_type": "code",
      "source": [
        "# Using single quotes\n",
        "single_quoted_string = 'Hello, world!'\n",
        "\n",
        "# Using double quotes\n",
        "double_quoted_string = \"Hello, world!\"\n",
        "\n",
        "# Using double quotes when the string contains a single quote\n",
        "double_quoted_with_single_quote = \"It's a beautiful day.\"\n",
        "\n",
        "# Using single quotes when the string contains double quotes\n",
        "single_quoted_with_double_quotes = 'She said, \"Hello!\"'\n",
        "\n",
        "# Print statements\n",
        "print(\"Single quoted string:\", single_quoted_string)\n",
        "print(\"Double quoted string:\", double_quoted_string)\n",
        "print(\"Double quoted string with single quote:\", double_quoted_with_single_quote)\n",
        "print(\"Single quoted string with double quotes:\", single_quoted_with_double_quotes)"
      ],
      "metadata": {
        "id": "YYaVb1Zk_lIh"
      },
      "execution_count": null,
      "outputs": []
    },
    {
      "cell_type": "code",
      "source": [
        "x = 10\n",
        "print(x)\n",
        "\n",
        "# Example of outputting multiple variables with print()\n",
        "y = 20\n",
        "print(x, y)\n",
        "\n",
        "# Example of using f-strings to format output\n",
        "name = \"danial\"\n",
        "age = 20\n",
        "print(f\"My name is {name} and I am {age} years old.\")\n",
        "\n",
        "# Example of using f-strings to manipulate variables in output\n",
        "length = 10\n",
        "width = 5\n",
        "area = length * width\n",
        "print(f\"The area of the rectangle is {area}.\")\n"
      ],
      "metadata": {
        "id": "5r_jteUd_pKV"
      },
      "execution_count": null,
      "outputs": []
    }
  ]
}
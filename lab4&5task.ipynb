{
  "nbformat": 4,
  "nbformat_minor": 0,
  "metadata": {
    "colab": {
      "provenance": [],
      "authorship_tag": "ABX9TyOfIv75eeWnRp5+dylBOKff",
      "include_colab_link": true
    },
    "kernelspec": {
      "name": "python3",
      "display_name": "Python 3"
    },
    "language_info": {
      "name": "python"
    }
  },
  "cells": [
    {
      "cell_type": "markdown",
      "metadata": {
        "id": "view-in-github",
        "colab_type": "text"
      },
      "source": [
        "<a href=\"https://colab.research.google.com/github/danialaffridi/PROGRAMMING-FOR-AI-LAB/blob/main/lab4%265task.ipynb\" target=\"_parent\"><img src=\"https://colab.research.google.com/assets/colab-badge.svg\" alt=\"Open In Colab\"/></a>"
      ]
    },
    {
      "cell_type": "markdown",
      "source": [
        "1.LIST ITEMS:"
      ],
      "metadata": {
        "id": "2Hgx4G4o02CC"
      }
    },
    {
      "cell_type": "code",
      "execution_count": 1,
      "metadata": {
        "colab": {
          "base_uri": "https://localhost:8080/"
        },
        "id": "Z_zUaJOV0afP",
        "outputId": "b8d71687-2f5e-445f-89d6-c331cc8d5e19"
      },
      "outputs": [
        {
          "output_type": "stream",
          "name": "stdout",
          "text": [
            "First item: apple\n",
            "Last item: grape\n"
          ]
        }
      ],
      "source": [
        "fruits = [\"apple\", \"banana\", \"orange\", \"grape\"]\n",
        "print(\"First item:\", fruits[0])\n",
        "print(\"Last item:\", fruits[-1])"
      ]
    },
    {
      "cell_type": "markdown",
      "source": [],
      "metadata": {
        "id": "Qz9GxwSw1DEX"
      }
    },
    {
      "cell_type": "code",
      "source": [
        "2.CHANGE LIST ITEM:"
      ],
      "metadata": {
        "id": "8i4_k-QM1CYG"
      },
      "execution_count": null,
      "outputs": []
    },
    {
      "cell_type": "code",
      "source": [
        "colors = [\"red\", \"green\", \"yellow\"]\n",
        "colors[1] = \"blue\"\n",
        "print(colors)"
      ],
      "metadata": {
        "colab": {
          "base_uri": "https://localhost:8080/"
        },
        "id": "Eu6FNpIp1VRn",
        "outputId": "ce39a0cb-3985-497e-fb7c-cca155ec7164"
      },
      "execution_count": 2,
      "outputs": [
        {
          "output_type": "stream",
          "name": "stdout",
          "text": [
            "['red', 'blue', 'yellow']\n"
          ]
        }
      ]
    },
    {
      "cell_type": "markdown",
      "source": [
        "3.3.\tAdd List Items:\n",
        "•\tCreate a list of numbers.\n",
        "•\tAdd the number 10 at the end of the list.\n"
      ],
      "metadata": {
        "id": "MP0PQ1od1cdI"
      }
    },
    {
      "cell_type": "code",
      "source": [
        "numbers = [1, 2, 3, 4, 5]\n",
        "numbers.append(10)\n",
        "print(numbers)"
      ],
      "metadata": {
        "colab": {
          "base_uri": "https://localhost:8080/"
        },
        "id": "V-DoTKfB1uun",
        "outputId": "40af8eac-ce6b-4b98-b3ef-9c693d222312"
      },
      "execution_count": 3,
      "outputs": [
        {
          "output_type": "stream",
          "name": "stdout",
          "text": [
            "[1, 2, 3, 4, 5, 10]\n"
          ]
        }
      ]
    },
    {
      "cell_type": "markdown",
      "source": [
        "4.\tRemove List Items:\n",
        "•\tCreate a list of animals.\n",
        "•\tRemove the third item from the list.\n"
      ],
      "metadata": {
        "id": "L8nE4xui11Le"
      }
    },
    {
      "cell_type": "code",
      "source": [
        "animals = [\"lion\", \"elephant\", \"tiger\", \"zebra\"]\n",
        "del animals[2]\n",
        "print(animals)"
      ],
      "metadata": {
        "colab": {
          "base_uri": "https://localhost:8080/"
        },
        "id": "GiCF18-p19ZV",
        "outputId": "7d823b33-466f-4836-be3a-ee687f0ea603"
      },
      "execution_count": 4,
      "outputs": [
        {
          "output_type": "stream",
          "name": "stdout",
          "text": [
            "['lion', 'elephant', 'zebra']\n"
          ]
        }
      ]
    },
    {
      "cell_type": "markdown",
      "source": [
        "5.\tLoop Lists:\n",
        "•\tCreate a list of cities.\n",
        "•\tLoop through the list and print each city.\n"
      ],
      "metadata": {
        "id": "1hwEOIU62Jcu"
      }
    },
    {
      "cell_type": "code",
      "source": [
        "cities = [\"Multan\", \"Liyari\", \"dara adam kheil\"]\n",
        "for city in cities:\n",
        "    print(city)"
      ],
      "metadata": {
        "colab": {
          "base_uri": "https://localhost:8080/"
        },
        "id": "wKcL8cYJ2MUn",
        "outputId": "05e330b9-666b-470b-92e1-f1334671d330"
      },
      "execution_count": 17,
      "outputs": [
        {
          "output_type": "stream",
          "name": "stdout",
          "text": [
            "Multan\n",
            "Liyari\n",
            "dara adam kheil\n"
          ]
        }
      ]
    },
    {
      "cell_type": "markdown",
      "source": [
        "6.\tList Comprehension:\n",
        "•\tCreate a list of numbers from 1 to 10.\n",
        "•\tUse list comprehension to create a new list containing the square of each number.\n"
      ],
      "metadata": {
        "id": "vV8QexL12VnC"
      }
    },
    {
      "cell_type": "code",
      "source": [
        "numbers = [i for i in range(1, 11)]\n",
        "squared_numbers = [x ** 2 for x in numbers]\n",
        "print(squared_numbers)"
      ],
      "metadata": {
        "colab": {
          "base_uri": "https://localhost:8080/"
        },
        "id": "bAEDPwc52YgC",
        "outputId": "438e9e98-0254-4b11-bc52-c6069273d2d2"
      },
      "execution_count": 6,
      "outputs": [
        {
          "output_type": "stream",
          "name": "stdout",
          "text": [
            "[1, 4, 9, 16, 25, 36, 49, 64, 81, 100]\n"
          ]
        }
      ]
    },
    {
      "cell_type": "markdown",
      "source": [
        "7.\tSort Lists:\n",
        "•\tCreate a list of names.\n",
        "•\tSort the list alphabetically\n"
      ],
      "metadata": {
        "id": "AyXYoHiC2feo"
      }
    },
    {
      "cell_type": "code",
      "source": [
        "names = [\"danial\", \"suleiman\", \"afridi\", \"afridi2.0\"]\n",
        "names.sort()\n",
        "print(names)"
      ],
      "metadata": {
        "colab": {
          "base_uri": "https://localhost:8080/"
        },
        "id": "mrfFSRs42iSn",
        "outputId": "8d6c0dd6-f189-4e90-dd83-fef6a52883c0"
      },
      "execution_count": 18,
      "outputs": [
        {
          "output_type": "stream",
          "name": "stdout",
          "text": [
            "['afridi', 'afridi2.0', 'danial', 'suleiman']\n"
          ]
        }
      ]
    },
    {
      "cell_type": "markdown",
      "source": [
        "8.\tCopy Lists:\n",
        "•\tCreate a list of fruits.\n",
        "•\tCopy the list into a new list.\n"
      ],
      "metadata": {
        "id": "_qTEImP122t_"
      }
    },
    {
      "cell_type": "code",
      "source": [
        "Fruits = [\"apple\", \"banana\", \"orange\"]\n",
        "new_fruits = fruits.copy()\n",
        "print(new_fruits)"
      ],
      "metadata": {
        "colab": {
          "base_uri": "https://localhost:8080/"
        },
        "id": "1oiPWHCU3Njg",
        "outputId": "8e22e807-9676-40e3-e0dd-831e39f1d0d0"
      },
      "execution_count": 19,
      "outputs": [
        {
          "output_type": "stream",
          "name": "stdout",
          "text": [
            "['apple', 'banana', 'orange']\n"
          ]
        }
      ]
    },
    {
      "cell_type": "markdown",
      "source": [
        "9.\tJoin Lists:\n",
        "•\tCreate two lists of numbers.\n",
        "•\tJoin the two lists into a single list.\n"
      ],
      "metadata": {
        "id": "IwdRDlMF3UbP"
      }
    },
    {
      "cell_type": "code",
      "source": [
        "list1 = [1, 2, 3]\n",
        "list2 = [4, 5, 6]\n",
        "joined_list = list1 + list2\n",
        "print(joined_list)"
      ],
      "metadata": {
        "colab": {
          "base_uri": "https://localhost:8080/"
        },
        "id": "4K07K2HA3YzA",
        "outputId": "15e78653-c4fe-4202-ae62-68c99beb94e8"
      },
      "execution_count": 9,
      "outputs": [
        {
          "output_type": "stream",
          "name": "stdout",
          "text": [
            "[1, 2, 3, 4, 5, 6]\n"
          ]
        }
      ]
    },
    {
      "cell_type": "markdown",
      "source": [
        "10.\tList Methods:\n",
        "•\tCreate a list of fruits.\n",
        "•\tUse the append() method to add a new fruit to the list.\n",
        "•\tUse the pop() method to remove the last fruit from the list.\n",
        "\n"
      ],
      "metadata": {
        "id": "Qm5QsugT320f"
      }
    },
    {
      "cell_type": "code",
      "source": [
        "fruits = [\"apple\", \"banana\", \"orange\"]\n",
        "fruits.append(\"grape\")\n",
        "print(fruits)\n",
        "last_fruit = fruits.pop()\n",
        "print(\"Last fruit removed:\", last_fruit)"
      ],
      "metadata": {
        "colab": {
          "base_uri": "https://localhost:8080/"
        },
        "id": "EbnFZERr3-ao",
        "outputId": "d4bf9383-e54c-42c5-fe34-5f78e9cf1a77"
      },
      "execution_count": 11,
      "outputs": [
        {
          "output_type": "stream",
          "name": "stdout",
          "text": [
            "['apple', 'banana', 'orange', 'grape']\n",
            "Last fruit removed: grape\n"
          ]
        }
      ]
    },
    {
      "cell_type": "markdown",
      "source": [
        "11.\tCombining Lists and List Comprehension:\n",
        "\n",
        "•\tCreate two lists, one containing numbers from 1 to 5 and another containing numbers from 6 to 10.\n",
        "•\tUse list comprehension to create a new list that contains the sum of corresponding elements from the two lists.\n"
      ],
      "metadata": {
        "id": "TN9w8s1M4f0J"
      }
    },
    {
      "cell_type": "code",
      "source": [
        "list1 = [1, 2, 3, 4, 5]\n",
        "list2 = [6, 7, 8, 9, 10]\n",
        "sum_list = [x + y for x, y in zip(list1, list2)]\n",
        "print(sum_list)"
      ],
      "metadata": {
        "colab": {
          "base_uri": "https://localhost:8080/"
        },
        "id": "ebNEZo8_4jMH",
        "outputId": "bb3643f1-3c6f-478d-8969-f05c617a9189"
      },
      "execution_count": 12,
      "outputs": [
        {
          "output_type": "stream",
          "name": "stdout",
          "text": [
            "[7, 9, 11, 13, 15]\n"
          ]
        }
      ]
    },
    {
      "cell_type": "markdown",
      "source": [
        "12.\tFiltering and Sorting:\n",
        "Create a list of numbers.\n",
        "•\tUse list comprehension to create a new list containing only the even numbers from the original list.\n",
        "•\tSort the new list in descending order.\n",
        "\n"
      ],
      "metadata": {
        "id": "y6GFii3J40uv"
      }
    },
    {
      "cell_type": "code",
      "source": [
        "numbers = [7, 2, 5, 8, 3, 6, 1, 4]\n",
        "even_numbers = [x for x in numbers if x % 2 == 0]\n",
        "even_numbers.sort(reverse=True)\n",
        "print(even_numbers)"
      ],
      "metadata": {
        "colab": {
          "base_uri": "https://localhost:8080/"
        },
        "id": "npBdnglT444_",
        "outputId": "db6ec4de-c700-49f7-bc75-7ac7ad5fa6d6"
      },
      "execution_count": 13,
      "outputs": [
        {
          "output_type": "stream",
          "name": "stdout",
          "text": [
            "[8, 6, 4, 2]\n"
          ]
        }
      ]
    },
    {
      "cell_type": "markdown",
      "source": [
        "13.\tList Slicing and Reversing:\n",
        "•\tCreate a list of numbers from 1 to 10.\n",
        "•\tUse list slicing to create a new list containing only the even numbers from the original list, in reverse order.\n"
      ],
      "metadata": {
        "id": "-fh-3P3m5A_W"
      }
    },
    {
      "cell_type": "code",
      "source": [
        "numbers = list(range(1, 11))\n",
        "even_reverse = numbers[-1::-2]\n",
        "print(even_reverse)"
      ],
      "metadata": {
        "colab": {
          "base_uri": "https://localhost:8080/"
        },
        "id": "AxzhLolt5HNX",
        "outputId": "3ee04915-d3ec-4fa8-8c1c-255c8911c3a2"
      },
      "execution_count": 14,
      "outputs": [
        {
          "output_type": "stream",
          "name": "stdout",
          "text": [
            "[10, 8, 6, 4, 2]\n"
          ]
        }
      ]
    },
    {
      "cell_type": "markdown",
      "source": [
        "14.\tCombining Lists and List Methods:\n",
        "•\tCreate two lists, one containing even numbers and another containing odd numbers.\n",
        "•\tUse list methods to combine the two lists into a single list, alternating between even and odd numbers.\n"
      ],
      "metadata": {
        "id": "oKWGZGvi5OBN"
      }
    },
    {
      "cell_type": "code",
      "source": [
        "even_numbers = [2, 4, 6, 8, 10]\n",
        "odd_numbers = [1, 3, 5, 7, 9]\n",
        "combined_list = []\n",
        "for even, odd in zip(even_numbers, odd_numbers):\n",
        "    combined_list.append(even)\n",
        "    combined_list.append(odd)\n",
        "print(combined_list)"
      ],
      "metadata": {
        "colab": {
          "base_uri": "https://localhost:8080/"
        },
        "id": "WOajT1_c5Whs",
        "outputId": "7e9c28ea-ab6f-42ec-bfd2-bb2db78e7532"
      },
      "execution_count": 15,
      "outputs": [
        {
          "output_type": "stream",
          "name": "stdout",
          "text": [
            "[2, 1, 4, 3, 6, 5, 8, 7, 10, 9]\n"
          ]
        }
      ]
    }
  ]
}
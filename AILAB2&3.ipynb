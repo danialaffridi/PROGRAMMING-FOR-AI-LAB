{
  "nbformat": 4,
  "nbformat_minor": 0,
  "metadata": {
    "colab": {
      "provenance": [],
      "authorship_tag": "ABX9TyMSUImf9M06gz89xsASm2PH",
      "include_colab_link": true
    },
    "kernelspec": {
      "name": "python3",
      "display_name": "Python 3"
    },
    "language_info": {
      "name": "python"
    }
  },
  "cells": [
    {
      "cell_type": "markdown",
      "metadata": {
        "id": "view-in-github",
        "colab_type": "text"
      },
      "source": [
        "<a href=\"https://colab.research.google.com/github/danialaffridi/lab1ai/blob/main/AILAB2%263.ipynb\" target=\"_parent\"><img src=\"https://colab.research.google.com/assets/colab-badge.svg\" alt=\"Open In Colab\"/></a>"
      ]
    },
    {
      "cell_type": "markdown",
      "source": [
        "TASK 1 :\n",
        "1.\tPrint at least 5 types of data type"
      ],
      "metadata": {
        "id": "k46k3HyXFi0V"
      }
    },
    {
      "cell_type": "code",
      "execution_count": 1,
      "metadata": {
        "colab": {
          "base_uri": "https://localhost:8080/"
        },
        "id": "5KbLouyEDoVq",
        "outputId": "66ff63cc-696a-419f-8b89-6e9c117cdc2c"
      },
      "outputs": [
        {
          "output_type": "stream",
          "name": "stdout",
          "text": [
            "3.14 -0.5 1000.0 -123.456 0.0\n"
          ]
        }
      ],
      "source": [
        "# Floats\n",
        "x = 3.14\n",
        "y = -0.5\n",
        "z = 1000.0\n",
        "a = -123.456\n",
        "b = 0.0\n",
        "print (x, y, z, a, b)"
      ]
    },
    {
      "cell_type": "code",
      "source": [
        "# Integers\n",
        "c = 10\n",
        "d = -5\n",
        "e = 1000\n",
        "f = -34567\n",
        "g = 0\n",
        "print(, c, d, e, f, g)"
      ],
      "metadata": {
        "colab": {
          "base_uri": "https://localhost:8080/"
        },
        "id": "YlvwWWwXGEh8",
        "outputId": "dbb08b1b-e948-4b90-854a-08db0fd3e5e7"
      },
      "execution_count": 2,
      "outputs": [
        {
          "output_type": "stream",
          "name": "stdout",
          "text": [
            "Integers: 10 -5 1000 -34567 0\n"
          ]
        }
      ]
    },
    {
      "cell_type": "code",
      "source": [
        "# Complex Numbers\n",
        "h = 2 + 3j\n",
        "i = -1.5 - 2.5j\n",
        "j = 4.0 + 1j\n",
        "k = -0.5 - 0.2j\n",
        "l = 0 + 0j\n",
        "print(, h, i, j, k, l)"
      ],
      "metadata": {
        "colab": {
          "base_uri": "https://localhost:8080/"
        },
        "id": "n293uXFFGNf4",
        "outputId": "fbb89a40-f786-4d39-e1f4-04ea5af40438"
      },
      "execution_count": 3,
      "outputs": [
        {
          "output_type": "stream",
          "name": "stdout",
          "text": [
            "Complex Numbers: (2+3j) (-1.5-2.5j) (4+1j) (-0.5-0.2j) 0j\n"
          ]
        }
      ]
    },
    {
      "cell_type": "markdown",
      "source": [
        "TASK 2 :\n",
        "2.\tWrite example of type conversion for each ( minimum 3)"
      ],
      "metadata": {
        "id": "5CESEjRlGeMn"
      }
    },
    {
      "cell_type": "code",
      "source": [
        "# Integer to Float Conversion\n",
        "int_num = 10\n",
        "float_num = float(int_num)\n",
        "print(float_num)\n",
        "# Integer to Complex Conversion\n",
        "int_num = 5\n",
        "complex_num = complex(int_num)\n",
        "print(complex_num)\n",
        "# Float to Integer Conversion\n",
        "float_num = 3.14\n",
        "int_num = int(float_num)\n",
        "print(int_num)\n",
        "# Float to Complex Conversion\n",
        "float_num = 2.5\n",
        "complex_num = complex(float_num)\n",
        "print(complex_num)\n",
        "# Complex to Integer Conversion\n",
        "complex_num = 2 + 3j\n",
        "int_num = int(complex_num.real)  # Take real part for conversion\n",
        "print(int_num)\n",
        "# Complex to Float Conversion\n",
        "complex_num = 4 + 2j\n",
        "float_num = float(complex_num.real)  # Take real part for conversion\n",
        "print(float_num)\n",
        "\n",
        "\n",
        "\n"
      ],
      "metadata": {
        "colab": {
          "base_uri": "https://localhost:8080/"
        },
        "id": "b4qGbIqqGsQf",
        "outputId": "454762ca-0dfc-451b-dc30-d4c63bc15dc5"
      },
      "execution_count": 4,
      "outputs": [
        {
          "output_type": "stream",
          "name": "stdout",
          "text": [
            "10.0\n",
            "(5+0j)\n",
            "3\n",
            "(2.5+0j)\n",
            "2\n",
            "4.0\n"
          ]
        }
      ]
    },
    {
      "cell_type": "markdown",
      "source": [
        "TASK 3 :\n",
        "3.\tAssign multiple strings to single variable with your name , registration number, program , semester etc\n"
      ],
      "metadata": {
        "id": "Lg-pLeIDJs6D"
      }
    },
    {
      "cell_type": "code",
      "source": [
        "student_info = '''\n",
        "Name: DANIAL AFRIDI,\n",
        "Registration Number: B22F0974AI008,\n",
        "Program: AI,\n",
        "Semester: 4th\n",
        "'''\n",
        "# Print the variable value\n",
        "print(student_info)"
      ],
      "metadata": {
        "colab": {
          "base_uri": "https://localhost:8080/"
        },
        "id": "q2uhsZTwJ849",
        "outputId": "5a7df6f3-fe8e-402d-89e1-c7ead658529b"
      },
      "execution_count": 5,
      "outputs": [
        {
          "output_type": "stream",
          "name": "stdout",
          "text": [
            "\n",
            "Name: DANIAL AFRIDI, \n",
            "Registration Number: B22F0974AI008,\n",
            "Program: AI, \n",
            "Semester: 4th\n",
            "\n"
          ]
        }
      ]
    },
    {
      "cell_type": "markdown",
      "source": [
        "TASK 4:\n",
        "4.\tWrite Your country name and access the last 3 characters"
      ],
      "metadata": {
        "id": "REHxBsP-KQKc"
      }
    },
    {
      "cell_type": "code",
      "source": [
        "country_name = \"PALESTINE\"\n",
        "last_three_characters = country_name[-3:]\n",
        "print(last_three_characters)\n"
      ],
      "metadata": {
        "colab": {
          "base_uri": "https://localhost:8080/"
        },
        "id": "PEF6d9EOKYqh",
        "outputId": "5fcf5c53-dbbc-4719-db9f-cc6fd8a8392e"
      },
      "execution_count": 6,
      "outputs": [
        {
          "output_type": "stream",
          "name": "stdout",
          "text": [
            "INE\n"
          ]
        }
      ]
    },
    {
      "cell_type": "markdown",
      "source": [
        "TASK 5:\n",
        "5.\tWrite code and observe using len() function it count space or not."
      ],
      "metadata": {
        "id": "cXRi-kRPKrxr"
      }
    },
    {
      "cell_type": "code",
      "source": [
        "# string with spaces\n",
        "my_string = \"Hello, world!\"\n",
        "\n",
        "# Counting the number of characters in the string\n",
        "print(\"Length of string:\", len(my_string))\n",
        "\n",
        "# Defining a string with no spaces\n",
        "no_space_string = \"HelloWorld\"\n",
        "\n",
        "# Counting the number of characters in the string\n",
        "print(\"Length of string with no spaces:\", len(no_space_string))"
      ],
      "metadata": {
        "id": "VPUrf1DPK0A8"
      },
      "execution_count": null,
      "outputs": []
    },
    {
      "cell_type": "markdown",
      "source": [
        "TASK 6:\n",
        "6.\tWrite code to access the 2nd and 3rd character of your name using negative indexes."
      ],
      "metadata": {
        "id": "MaR50uxSLkDB"
      }
    },
    {
      "cell_type": "code",
      "source": [
        "# name\n",
        "name = \"DANIAL AFRIDI\"\n",
        "\n",
        "# Access the 2nd character from the end (index -2)\n",
        "second_char = name[-2]\n",
        "\n",
        "# Access the 3rd character from the end (index -3)\n",
        "third_char = name[-3]\n",
        "\n",
        "print(\"2nd character from the end:\", second_char)\n",
        "print(\"3rd character from the end:\", third_char)"
      ],
      "metadata": {
        "id": "wHKNiCorLouN"
      },
      "execution_count": null,
      "outputs": []
    },
    {
      "cell_type": "markdown",
      "source": [
        "TASK 7:\n",
        "7.\tWrite python code in which you pass index number to format() function and arguments must be 4 and same code without indexes."
      ],
      "metadata": {
        "id": "LL5A_36dLzDX"
      }
    },
    {
      "cell_type": "code",
      "source": [
        "formatted_with_index = \"{1} {0} {2} {3}\".format(4, \"same\", \"code\", \"without\")\n",
        "print(\"Formatted with index numbers:\", formatted_with_index)"
      ],
      "metadata": {
        "colab": {
          "base_uri": "https://localhost:8080/"
        },
        "id": "Q4iLYkYuL5B1",
        "outputId": "3c139f19-7c1d-40aa-adc1-5c1472f46580"
      },
      "execution_count": 8,
      "outputs": [
        {
          "output_type": "stream",
          "name": "stdout",
          "text": [
            "Formatted with index numbers: same 4 code without\n"
          ]
        }
      ]
    },
    {
      "cell_type": "markdown",
      "source": [
        "TASK 8:\n",
        "8.\tTake input from user and  than display it like “John age is: age”"
      ],
      "metadata": {
        "id": "QDH-2RDCMNAT"
      }
    },
    {
      "cell_type": "code",
      "source": [
        "name = str(input(\"Enter your name: \"))\n",
        "age = int(input(\"Enter your age: \"))\n",
        "\n",
        "print(name,\" age is \",age)"
      ],
      "metadata": {
        "id": "SnAAJUSgMRaC"
      },
      "execution_count": null,
      "outputs": []
    }
  ]
}